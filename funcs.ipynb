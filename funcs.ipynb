{
 "cells": [
  {
   "cell_type": "code",
   "execution_count": 1,
   "metadata": {},
   "outputs": [
    {
     "name": "stdout",
     "output_type": "stream",
     "text": [
      "10000\n",
      "20000\n",
      "30000\n",
      "40000\n",
      "50000\n",
      "60000\n",
      "70000\n",
      "80000\n",
      "90000\n",
      "100000\n",
      "110000\n",
      "120000\n",
      "130000\n",
      "140000\n",
      "150000\n",
      "160000\n",
      "170000\n",
      "180000\n",
      "190000\n",
      "200000\n"
     ]
    }
   ],
   "source": [
    "import numpy as np\n",
    "import pandas as pd\n",
    "\n",
    "from mesa.space import SingleGrid\n",
    "from tqdm import tqdm\n",
    "\n",
    "def create_grid(x, y):\n",
    "    grid = SingleGrid(x, y, True)\n",
    "    \n",
    "    return grid\n",
    "\n",
    "def make_network(grid, target_degree, neighbor_frac, seed = None):\n",
    "    '''\n",
    "    Replaces the network function from the original code. Uses built in get_neighborhood from mesa. \n",
    "    Returns transition matrix T instead of a df of neighbors, which is more akin to the original code. \n",
    "    Also uses helper funcs to_coord and to_index, defined within the scope of the function. \n",
    "    Should check the order of agents in the grid, confirm the helpers are indexing correctly. \n",
    "    Grid only exists to get neighborhood. \n",
    "    '''\n",
    "    \n",
    "    #Returns 0 - X as x coordinate. Indexing is done in row order\n",
    "    to_coord = lambda x, X: (x % X, x // X)\n",
    "    #goes over y rows, then adds x\n",
    "    to_index = lambda x, X, y: x + y * X\n",
    "    \n",
    "    links = 0\n",
    "    avg_degree = 0\n",
    "    T = np.zeros((10000, 10000))\n",
    "    pairs = []\n",
    "    \n",
    "    np.random.seed(seed)\n",
    "    \n",
    "    while avg_degree < target_degree:\n",
    "        c1 = np.random.randint(10000)\n",
    "        c1_coords = to_coord(c1, 100)\n",
    "        neighs = grid.get_neighborhood(c1_coords, True, include_center = False, radius = 3)\n",
    "        neigh_inds = [to_index(x, 100, y) for x, y in neighs]\n",
    "        if np.random.rand() < neighbor_frac:\n",
    "            pots = neigh_inds\n",
    "        else:\n",
    "            neigh_incl = neigh_inds + [c1]\n",
    "            pots = [x for x in range(10000) if x not in neigh_incl]\n",
    "            \n",
    "        c2 = np.random.choice(pots)\n",
    "        if T[c1, c2] == 0:\n",
    "            pairs.append((c1, c2))\n",
    "            T[c1, c2] = 1\n",
    "            T[c2, c1] = 1\n",
    "            links += 2\n",
    "            avg_degree = links/10000\n",
    "            if links % 10000 == 0:\n",
    "                print(links)\n",
    "                \n",
    "    return T, pairs\n",
    "\n",
    "grid = SingleGrid(100, 100, True)\n",
    "T, pairs = make_network(grid, 20, 0.3)"
   ]
  },
  {
   "cell_type": "code",
   "execution_count": 3,
   "metadata": {},
   "outputs": [
    {
     "data": {
      "text/plain": [
       "<matplotlib.axes._subplots.AxesSubplot at 0x7f2192432f40>"
      ]
     },
     "execution_count": 3,
     "metadata": {},
     "output_type": "execute_result"
    },
    {
     "data": {
      "image/png": "[encoded data removed]",
      "text/plain": [
       "<Figure size 1440x720 with 1 Axes>"
      ]
     },
     "metadata": {
      "needs_background": "light"
     },
     "output_type": "display_data"
    }
   ],
   "source": [
    "%matplotlib inline\n",
    "import seaborn as sns\n",
    "import matplotlib.pyplot as plt\n",
    "\n",
    "\n",
    "plt.figure(figsize = (20, 10))\n",
    "\n",
    "bins = np.linspace(0, 40, num = 41)\n",
    "sns.distplot(T.sum(axis = 1), bins = bins, kde = False)"
   ]
  },
  {
   "cell_type": "code",
   "execution_count": 23,
   "metadata": {},
   "outputs": [
    {
     "data": {
      "text/html": [
       "<div>\n",
       "<style scoped>\n",
       "    .dataframe tbody tr th:only-of-type {\n",
       "        vertical-align: middle;\n",
       "    }\n",
       "\n",
       "    .dataframe tbody tr th {\n",
       "        vertical-align: top;\n",
       "    }\n",
       "\n",
       "    .dataframe thead th {\n",
       "        text-align: right;\n",
       "    }\n",
       "</style>\n",
       "<table border=\"1\" class=\"dataframe\">\n",
       "  <thead>\n",
       "    <tr style=\"text-align: right;\">\n",
       "      <th></th>\n",
       "      <th>Type</th>\n",
       "      <th>Status</th>\n",
       "      <th>Thresh</th>\n",
       "      <th>N_Neighbors</th>\n",
       "      <th>N_Convert</th>\n",
       "    </tr>\n",
       "  </thead>\n",
       "  <tbody>\n",
       "    <tr>\n",
       "      <th>0</th>\n",
       "      <td>Compassionate</td>\n",
       "      <td>False</td>\n",
       "      <td>0.05</td>\n",
       "      <td>24.0</td>\n",
       "      <td>1.2</td>\n",
       "    </tr>\n",
       "    <tr>\n",
       "      <th>1</th>\n",
       "      <td>Compassionate</td>\n",
       "      <td>False</td>\n",
       "      <td>0.05</td>\n",
       "      <td>16.0</td>\n",
       "      <td>0.8</td>\n",
       "    </tr>\n",
       "    <tr>\n",
       "      <th>2</th>\n",
       "      <td>Conformist</td>\n",
       "      <td>False</td>\n",
       "      <td>0.30</td>\n",
       "      <td>24.0</td>\n",
       "      <td>7.2</td>\n",
       "    </tr>\n",
       "    <tr>\n",
       "      <th>3</th>\n",
       "      <td>Stigmatized</td>\n",
       "      <td>False</td>\n",
       "      <td>0.40</td>\n",
       "      <td>21.0</td>\n",
       "      <td>8.4</td>\n",
       "    </tr>\n",
       "    <tr>\n",
       "      <th>4</th>\n",
       "      <td>Compassionate</td>\n",
       "      <td>False</td>\n",
       "      <td>0.05</td>\n",
       "      <td>20.0</td>\n",
       "      <td>1.0</td>\n",
       "    </tr>\n",
       "  </tbody>\n",
       "</table>\n",
       "</div>"
      ],
      "text/plain": [
       "            Type  Status  Thresh  N_Neighbors  N_Convert\n",
       "0  Compassionate   False    0.05         24.0        1.2\n",
       "1  Compassionate   False    0.05         16.0        0.8\n",
       "2     Conformist   False    0.30         24.0        7.2\n",
       "3    Stigmatized   False    0.40         21.0        8.4\n",
       "4  Compassionate   False    0.05         20.0        1.0"
      ]
     },
     "execution_count": 23,
     "metadata": {},
     "output_type": "execute_result"
    }
   ],
   "source": [
    "def assign_types(grid, stigma_frac, conform_frac):\n",
    "    '''\n",
    "    Replaces typestatus function in the original code. \n",
    "    Instead of using 0, 1, 2 as our types we use the written form.\n",
    "    0 : Conformist, 1 : Stigmatized, 2 : Compassionate\n",
    "    '''\n",
    "    n = grid.height * grid.width\n",
    "    stigs = np.random.choice(n, int(n * stigma_frac), replace = False)\n",
    "    non_stigs = np.array([x for x in range(n) if x not in stigs])\n",
    "    \n",
    "    confs = np.random.choice(non_stigs, int(len(non_stigs) * conform_frac), replace = False)\n",
    "    \n",
    "    types = pd.DataFrame(index = np.arange(n))\n",
    "    types['Type'] = 'Compassionate'\n",
    "    types.loc[confs, 'Type'] = 'Conformist'\n",
    "    types.loc[stigs, 'Type'] = 'Stigmatized'\n",
    "    \n",
    "    return types\n",
    "\n",
    "def initial_status(revealed_frac, accepting_frac, types, threshs):\n",
    "    '''\n",
    "    Handles the initialization portion of the original evolve function. \n",
    "    '''\n",
    "    stigs = types.query('Type == \"Stigmatized\"')\n",
    "    comps = types.query('Type == \"Compassionate\"')\n",
    "    \n",
    "    revealed = np.random.choice(stigs.index, int(revealed_frac * len(stigs)), replace = False)\n",
    "    accepting = np.random.choice(comps.index, int(accepting_frac * len(comps)), replace = False)\n",
    "    \n",
    "    types['Status'] = False\n",
    "    types.loc[revealed, 'Status'] = True\n",
    "    types.loc[accepting, 'Status'] = True\n",
    "    types['Thresh'] = types['Type'].map(threshs)\n",
    "    \n",
    "    return types\n",
    "    \n",
    "types = assign_types(grid, 0.1, 0.3)\n",
    "types = initial_status(0.15, 0.05, types, {'Compassionate' : 0.05, 'Stigmatized' : 0.4, 'Conformist' : 0.3})\n",
    "types['N_Neighbors'] = T.sum(axis = 1)\n",
    "types['N_Convert'] = types['N_Neighbors'] * types['Thresh']\n",
    "types.head()"
   ]
  },
  {
   "cell_type": "code",
   "execution_count": 25,
   "metadata": {},
   "outputs": [],
   "source": [
    "def step(init_info, T, status):\n",
    "    '''\n",
    "    Individual iteration of the main loop in evolve. \n",
    "    '''\n",
    "    \n",
    "    stigs = init_info.query('Type == \"Stigmatized\"').index\n",
    "    comps = init_info.query('Type == \"Compassionate\"').index\n",
    "    \n",
    "    acc_neighbors = T @ status\n",
    "    rev_neighbors = T[:, stigs] @ status[stigs]\n",
    "    \n",
    "    num_eff = acc_neighbors.copy()\n",
    "    num_eff[comps] = rev_neighbors[comps]\n",
    "    \n",
    "    return pd.DataFrame({'Accepting' : acc_neighbors, 'Revealed' : rev_neighbors})\n",
    "\n",
    "ret = step(types, T, types['Status'])"
   ]
  },
  {
   "cell_type": "code",
   "execution_count": 29,
   "metadata": {},
   "outputs": [
    {
     "data": {
      "text/plain": [
       "0       False\n",
       "1       False\n",
       "2       False\n",
       "3       False\n",
       "4       False\n",
       "        ...  \n",
       "9995    False\n",
       "9996    False\n",
       "9997    False\n",
       "9998    False\n",
       "9999    False\n",
       "Length: 10000, dtype: bool"
      ]
     },
     "execution_count": 29,
     "metadata": {},
     "output_type": "execute_result"
    }
   ],
   "source": [
    "ret['Revealed'] > types['N_Convert']"
   ]
  },
  {
   "cell_type": "code",
   "execution_count": null,
   "metadata": {},
   "outputs": [],
   "source": []
  }
 ],
 "metadata": {
  "kernelspec": {
   "display_name": "Python 3",
   "language": "python",
   "name": "python3"
  },
  "language_info": {
   "codemirror_mode": {
    "name": "ipython",
    "version": 3
   },
   "file_extension": ".py",
   "mimetype": "text/x-python",
   "name": "python",
   "nbconvert_exporter": "python",
   "pygments_lexer": "ipython3",
   "version": "3.8.0"
  }
 },
 "nbformat": 4,
 "nbformat_minor": 4
}
